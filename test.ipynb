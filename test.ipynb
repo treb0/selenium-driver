{
 "cells": [
  {
   "cell_type": "code",
   "execution_count": 1,
   "metadata": {},
   "outputs": [],
   "source": [
    "\n",
    "from chromedriver import *\n",
    "\n",
    "\n",
    "\n",
    "from time import sleep\n",
    "\n",
    "\n",
    "import sys\n",
    "import pandas as pd\n",
    "\n",
    "from bs4 import BeautifulSoup\n",
    "\n",
    "import random\n",
    "\n",
    "# Selenium\n",
    "from selenium import webdriver\n",
    "from selenium.webdriver.support.ui import WebDriverWait, Select\n",
    "from selenium.webdriver.support import expected_conditions as EC\n",
    "from selenium.webdriver.common.by import By\n",
    "from selenium.webdriver.common.keys import Keys\n",
    "from selenium.webdriver.common.action_chains import ActionChains\n",
    "from selenium.webdriver.chrome.service import Service\n",
    "\n",
    "from selenium.common.exceptions import NoSuchElementException\n",
    "from selenium.common.exceptions import StaleElementReferenceException\n",
    "\n",
    "from webdriver_manager.chrome import ChromeDriverManager\n",
    "\n",
    "options = webdriver.ChromeOptions()\n",
    "    \n",
    "options.add_argument(\"--start-maximized\")\n",
    "options.add_experimental_option(\"excludeSwitches\", [\"enable-automation\"]) # > no me funciona en undetectable chromedriver\n",
    "options.add_experimental_option('useAutomationExtension', False) # > no me funciona en undetectable chromedriver\n",
    "options.add_argument('--disable-notifications')\n",
    "options.add_argument(\"--mute-audio\")\n",
    "options.add_argument(\"--disable-popup-blocking\")\n",
    "\n",
    "# Options to avoid bot detection\n",
    "options.add_argument('--disable-blink-features=AutomationControlled') # el undetectable chromedriver recomienda sacarlo\n",
    "options.add_argument(\"--window-size=1282,814\")\n",
    "options.add_argument(\"--user-agent=Mozilla/5.0 (Macintosh; Intel Mac OS X 10_15_7) AppleWebKit/537.36 (KHTML, like Gecko) Chrome/111.0.0.0 Safari/537.36\")\n",
    "\n",
    "\n"
   ]
  },
  {
   "cell_type": "code",
   "execution_count": null,
   "metadata": {},
   "outputs": [],
   "source": [
    "capabilities = options.to_capabilities()\n",
    "#capabilities['platformName'] = 'Windows'\n",
    "capabilities"
   ]
  },
  {
   "cell_type": "code",
   "execution_count": null,
   "metadata": {},
   "outputs": [],
   "source": [
    "\n",
    "\n",
    "\n",
    "\n",
    "\n",
    "#s = Service(ChromeDriverManager().install())\n",
    "\n",
    "#driver = Driver(service = s, options = options)\n",
    "\n",
    "#executable_path = rel_path_to_selenium + \"chromedriver\"\n",
    "executable_path = \"chromedriver\"\n",
    "driver = Driver(executable_path = executable_path, options = options)\n",
    "\n",
    "driver.get('https://www.whatismybrowser.com/')"
   ]
  },
  {
   "cell_type": "code",
   "execution_count": null,
   "metadata": {},
   "outputs": [],
   "source": [
    "driver.capabilities"
   ]
  },
  {
   "cell_type": "code",
   "execution_count": null,
   "metadata": {},
   "outputs": [],
   "source": [
    "driver.capabilities['platformName'] = 'Windows'"
   ]
  },
  {
   "cell_type": "code",
   "execution_count": null,
   "metadata": {},
   "outputs": [],
   "source": [
    "driver.get('https://www.whatismybrowser.com/')"
   ]
  },
  {
   "cell_type": "code",
   "execution_count": null,
   "metadata": {},
   "outputs": [],
   "source": [
    "driver.capabilities"
   ]
  },
  {
   "cell_type": "code",
   "execution_count": null,
   "metadata": {},
   "outputs": [],
   "source": [
    "driver."
   ]
  },
  {
   "cell_type": "code",
   "execution_count": null,
   "metadata": {},
   "outputs": [],
   "source": [
    "import zipfile\n",
    "import os\n",
    "\n",
    "from selenium import webdriver\n",
    "\n",
    "PROXY_HOST = '185.55.140.184'  # rotating proxy or host\n",
    "PROXY_PORT = 12323 # port\n",
    "PROXY_USER = '14a27203934f1' # username\n",
    "PROXY_PASS = 'b53c4744e8' # password\n",
    "\n",
    "manifest_json = \"\"\"\n",
    "{\n",
    "    \"version\": \"1.0.0\",\n",
    "    \"manifest_version\": 2,\n",
    "    \"name\": \"Chrome Proxy\",\n",
    "    \"permissions\": [\n",
    "        \"proxy\",\n",
    "        \"tabs\",\n",
    "        \"unlimitedStorage\",\n",
    "        \"storage\",\n",
    "        \"<all_urls>\",\n",
    "        \"webRequest\",\n",
    "        \"webRequestBlocking\"\n",
    "    ],\n",
    "    \"background\": {\n",
    "        \"scripts\": [\"background.js\"]\n",
    "    },\n",
    "    \"minimum_chrome_version\":\"22.0.0\"\n",
    "}\n",
    "\"\"\"\n",
    "\n",
    "background_js = \"\"\"\n",
    "var config = {\n",
    "        mode: \"fixed_servers\",\n",
    "        rules: {\n",
    "        singleProxy: {\n",
    "            scheme: \"http\",\n",
    "            host: \"%s\",\n",
    "            port: parseInt(%s)\n",
    "        },\n",
    "        bypassList: [\"localhost\"]\n",
    "        }\n",
    "    };\n",
    "chrome.proxy.settings.set({value: config, scope: \"regular\"}, function() {});\n",
    "function callbackFn(details) {\n",
    "    return {\n",
    "        authCredentials: {\n",
    "            username: \"%s\",\n",
    "            password: \"%s\"\n",
    "        }\n",
    "    };\n",
    "}\n",
    "chrome.webRequest.onAuthRequired.addListener(\n",
    "            callbackFn,\n",
    "            {urls: [\"<all_urls>\"]},\n",
    "            ['blocking']\n",
    ");\n",
    "\"\"\" % (PROXY_HOST, PROXY_PORT, PROXY_USER, PROXY_PASS)\n",
    "\n",
    "def get_chromedriver(use_proxy=False, user_agent=None):\n",
    "    path = ''\n",
    "    chrome_options = webdriver.ChromeOptions()\n",
    "    if use_proxy:\n",
    "        pluginfile = 'proxy_auth_plugin.zip'\n",
    "        with zipfile.ZipFile(pluginfile, 'w') as zp:\n",
    "            zp.writestr(\"manifest.json\", manifest_json)\n",
    "            zp.writestr(\"background.js\", background_js)\n",
    "        chrome_options.add_extension(pluginfile)\n",
    "    if user_agent:\n",
    "        chrome_options.add_argument('--user-agent=%s' % user_agent)\n",
    "    driver = webdriver.Chrome(\n",
    "        os.path.join(path, 'chromedriver'),\n",
    "        chrome_options=chrome_options)\n",
    "    return driver"
   ]
  },
  {
   "cell_type": "code",
   "execution_count": null,
   "metadata": {},
   "outputs": [],
   "source": [
    "get_chromedriver(use_proxy=True, user_agent=None)"
   ]
  },
  {
   "cell_type": "code",
   "execution_count": 2,
   "metadata": {},
   "outputs": [],
   "source": [
    "driver = open_chromedriver(rel_path_to_selenium = ''\n",
    "                     ,rel_path_to_chrome = ''\n",
    "                     ,profile = None\n",
    "                     ,extensions = []\n",
    "                     ,audio = False\n",
    "                     ,headless = False\n",
    "                     ,iproyal_json_path = 'iproyal_vpn.json')"
   ]
  },
  {
   "cell_type": "code",
   "execution_count": 3,
   "metadata": {},
   "outputs": [],
   "source": [
    "driver.get('https://www.whatismybrowser.com/')"
   ]
  },
  {
   "cell_type": "code",
   "execution_count": 4,
   "metadata": {},
   "outputs": [],
   "source": [
    "driver.get('https://whatismyipaddress.com/')"
   ]
  },
  {
   "cell_type": "code",
   "execution_count": null,
   "metadata": {},
   "outputs": [],
   "source": []
  }
 ],
 "metadata": {
  "kernelspec": {
   "display_name": ".venv",
   "language": "python",
   "name": "python3"
  },
  "language_info": {
   "codemirror_mode": {
    "name": "ipython",
    "version": 3
   },
   "file_extension": ".py",
   "mimetype": "text/x-python",
   "name": "python",
   "nbconvert_exporter": "python",
   "pygments_lexer": "ipython3",
   "version": "3.11.1"
  },
  "orig_nbformat": 4
 },
 "nbformat": 4,
 "nbformat_minor": 2
}
