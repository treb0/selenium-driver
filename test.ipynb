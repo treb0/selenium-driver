{
 "cells": [
  {
   "cell_type": "code",
   "execution_count": 1,
   "metadata": {},
   "outputs": [],
   "source": [
    "from chromedriver import *\n",
    "\n",
    "from time import sleep\n",
    "\n",
    "import sys\n",
    "import pandas as pd\n",
    "\n",
    "from bs4 import BeautifulSoup\n",
    "\n",
    "import random\n",
    "\n",
    "# Selenium\n",
    "from selenium import webdriver\n",
    "from selenium.webdriver.support.ui import WebDriverWait, Select\n",
    "from selenium.webdriver.support import expected_conditions as EC\n",
    "from selenium.webdriver.common.by import By\n",
    "from selenium.webdriver.common.keys import Keys\n",
    "from selenium.webdriver.common.action_chains import ActionChains\n",
    "from selenium.webdriver.chrome.service import Service\n",
    "\n",
    "from selenium.common.exceptions import NoSuchElementException\n",
    "from selenium.common.exceptions import StaleElementReferenceException\n",
    "\n",
    "from webdriver_manager.chrome import ChromeDriverManager"
   ]
  },
  {
   "cell_type": "code",
   "execution_count": 2,
   "metadata": {},
   "outputs": [
    {
     "name": "stdout",
     "output_type": "stream",
     "text": [
      "veepn extension\n"
     ]
    }
   ],
   "source": [
    "# view display detected when headless\n",
    "\n",
    "# open chromedriver\n",
    "rel_path_to_selenium = ''\n",
    "rel_path_to_chrome = ''\n",
    "driver = open_chromedriver(rel_path_to_selenium, rel_path_to_chrome, extensions=['veepn']\n",
    "                          ,headless=False\n",
    "                          ,change_user_agent = False\n",
    "                          ,time_zone = 'America/Toronto'\n",
    "                           )"
   ]
  },
  {
   "cell_type": "code",
   "execution_count": 3,
   "metadata": {},
   "outputs": [
    {
     "name": "stdout",
     "output_type": "stream",
     "text": [
      "\n",
      "IP: 181.12.251.101\n",
      "country: Argentina\n",
      "region: Buenos Aires\n",
      "city: Castelar\n",
      "Internet Service Provider: Telecom Argentina S.A.\n",
      "Not logged in. Proceeding to log in\n"
     ]
    },
    {
     "ename": "KeyboardInterrupt",
     "evalue": "",
     "output_type": "error",
     "traceback": [
      "\u001b[0;31m---------------------------------------------------------------------------\u001b[0m",
      "\u001b[0;31mKeyboardInterrupt\u001b[0m                         Traceback (most recent call last)",
      "Cell \u001b[0;32mIn[3], line 6\u001b[0m\n\u001b[1;32m      3\u001b[0m VEEPN_COUNTRY \u001b[39m=\u001b[39m VPN_COUNTRY\n\u001b[1;32m      4\u001b[0m VEEPN_REGION \u001b[39m=\u001b[39m VPN_REGION\n\u001b[0;32m----> 6\u001b[0m logged_in \u001b[39m=\u001b[39m driver\u001b[39m.\u001b[39;49mverify_ip(VPN_COUNTRY, VPN_REGION, VEEPN_COUNTRY, VEEPN_REGION)\n",
      "File \u001b[0;32m~/Documents/python_projects/landing/selenium-driver/chromedriver.py:579\u001b[0m, in \u001b[0;36mDriver.verify_ip\u001b[0;34m(self, country, region, veepn_country, veepn_region)\u001b[0m\n\u001b[1;32m    576\u001b[0m     \u001b[39mreturn\u001b[39;00m \u001b[39mTrue\u001b[39;00m\n\u001b[1;32m    578\u001b[0m \u001b[39melse\u001b[39;00m:\n\u001b[0;32m--> 579\u001b[0m     \u001b[39mif\u001b[39;00m \u001b[39m'\u001b[39m\u001b[39mveepn\u001b[39m\u001b[39m'\u001b[39m \u001b[39min\u001b[39;00m \u001b[39mself\u001b[39m\u001b[39m.\u001b[39mextensions: \u001b[39mself\u001b[39;49m\u001b[39m.\u001b[39;49mset_veepn(veepn_country,veepn_region)\n\u001b[1;32m    580\u001b[0m     \u001b[39melse\u001b[39;00m: \n\u001b[1;32m    581\u001b[0m         val \u001b[39m=\u001b[39m \u001b[39minput\u001b[39m(\u001b[39mf\u001b[39m\u001b[39m\"\u001b[39m\u001b[39mSet VPN to country: \u001b[39m\u001b[39m{\u001b[39;00mcountry\u001b[39m}\u001b[39;00m\u001b[39m, and region: \u001b[39m\u001b[39m{\u001b[39;00mregion\u001b[39m}\u001b[39;00m\u001b[39m. Or enter \u001b[39m\u001b[39m'\u001b[39m\u001b[39mexit\u001b[39m\u001b[39m'\u001b[39m\u001b[39m to exit\u001b[39m\u001b[39m\"\u001b[39m)\n",
      "File \u001b[0;32m~/Documents/python_projects/landing/selenium-driver/chromedriver.py:457\u001b[0m, in \u001b[0;36mDriver.set_veepn\u001b[0;34m(self, country, region)\u001b[0m\n\u001b[1;32m    455\u001b[0m     veepn_access \u001b[39m=\u001b[39m json\u001b[39m.\u001b[39mload(f)\n\u001b[1;32m    456\u001b[0m \u001b[39mself\u001b[39m\u001b[39m.\u001b[39msend_action_keys(veepn_access[\u001b[39m'\u001b[39m\u001b[39muser\u001b[39m\u001b[39m'\u001b[39m])\n\u001b[0;32m--> 457\u001b[0m sleep(\u001b[39m2\u001b[39;49m)\n\u001b[1;32m    458\u001b[0m \u001b[39mself\u001b[39m\u001b[39m.\u001b[39msend_action_keys(Keys\u001b[39m.\u001b[39mTAB)\n\u001b[1;32m    459\u001b[0m sleep(\u001b[39m1\u001b[39m)\n",
      "\u001b[0;31mKeyboardInterrupt\u001b[0m: "
     ]
    }
   ],
   "source": [
    "VPN_COUNTRY = 'Canada'\n",
    "VPN_REGION = 'Ontario'\n",
    "VEEPN_COUNTRY = VPN_COUNTRY\n",
    "VEEPN_REGION = VPN_REGION\n",
    "\n",
    "logged_in = driver.verify_ip(VPN_COUNTRY, VPN_REGION, VEEPN_COUNTRY, VEEPN_REGION)"
   ]
  },
  {
   "cell_type": "code",
   "execution_count": 5,
   "metadata": {},
   "outputs": [
    {
     "name": "stdout",
     "output_type": "stream",
     "text": [
      "chrome_and_os: Chrome 111 on macOS (Mojave)\n",
      "computer_screen: 6400 x 3600 Pixels24 bit\n",
      "browser_window_size: 1282 x 814 Pixels\n",
      "hardware_type: Computer\n",
      "timezone: -03:00\n",
      "CPU cores: 8\n",
      "configured_laguages: English\n"
     ]
    }
   ],
   "source": [
    "driver.get_browser_details()"
   ]
  },
  {
   "cell_type": "code",
   "execution_count": null,
   "metadata": {},
   "outputs": [],
   "source": []
  },
  {
   "cell_type": "code",
   "execution_count": null,
   "metadata": {},
   "outputs": [],
   "source": []
  },
  {
   "cell_type": "code",
   "execution_count": null,
   "metadata": {},
   "outputs": [],
   "source": []
  },
  {
   "cell_type": "code",
   "execution_count": 4,
   "metadata": {},
   "outputs": [
    {
     "data": {
      "text/plain": [
       "'new tab opened: veepn'"
      ]
     },
     "execution_count": 4,
     "metadata": {},
     "output_type": "execute_result"
    }
   ],
   "source": [
    "driver.switch_to_tab('veepn')"
   ]
  },
  {
   "cell_type": "code",
   "execution_count": 7,
   "metadata": {},
   "outputs": [
    {
     "name": "stdout",
     "output_type": "stream",
     "text": [
      "Not logged in. Proceeding to log in\n"
     ]
    },
    {
     "ename": "NameError",
     "evalue": "name 'self' is not defined",
     "output_type": "error",
     "traceback": [
      "\u001b[0;31m---------------------------------------------------------------------------\u001b[0m",
      "\u001b[0;31mNameError\u001b[0m                                 Traceback (most recent call last)",
      "Cell \u001b[0;32mIn[7], line 13\u001b[0m\n\u001b[1;32m     11\u001b[0m sleep(\u001b[39m2\u001b[39m)\n\u001b[1;32m     12\u001b[0m \u001b[39m# load account data from json\u001b[39;00m\n\u001b[0;32m---> 13\u001b[0m veepn_path \u001b[39m=\u001b[39m \u001b[39mself\u001b[39;49m\u001b[39m.\u001b[39mrel_path_to_selenium \u001b[39m+\u001b[39m \u001b[39m'\u001b[39m\u001b[39mveepn_access.json\u001b[39m\u001b[39m'\u001b[39m\n\u001b[1;32m     14\u001b[0m \u001b[39mwith\u001b[39;00m \u001b[39mopen\u001b[39m(veepn_path, \u001b[39m'\u001b[39m\u001b[39mr\u001b[39m\u001b[39m'\u001b[39m) \u001b[39mas\u001b[39;00m f:\n\u001b[1;32m     15\u001b[0m     veepn_access \u001b[39m=\u001b[39m json\u001b[39m.\u001b[39mload(f)\n",
      "\u001b[0;31mNameError\u001b[0m: name 'self' is not defined"
     ]
    }
   ],
   "source": [
    "# Check if we are logged into veepn\n",
    "# open menu sidebar\n",
    "driver.find_element(By.XPATH, '//button[@id=\"hamburger\"]').click()\n",
    "sleep(2)\n",
    "soup = driver.get_soup()\n",
    "log_ins = len(soup.find_all('button',text='Log In'))\n",
    "my_accounts = len(soup.find_all('div',text='My account'))\n",
    "if (log_ins == 1) & (my_accounts == 0):\n",
    "    print('Not logged in. Proceeding to log in')\n",
    "    driver.find_element(By.XPATH, '//button[@type=\"button\"][@class=\"loginButton greenButton\"]').click()\n",
    "    sleep(2)\n",
    "    # load account data from json\n",
    "    veepn_path = driver.rel_path_to_selenium + 'veepn_access.json'\n",
    "    with open(veepn_path, 'r') as f:\n",
    "        veepn_access = json.load(f)\n",
    "    driver.send_action_keys(veepn_access['user'])\n",
    "    sleep(2)\n",
    "    driver.send_action_keys(Keys.TAB)\n",
    "    sleep(1)\n",
    "    driver.send_action_keys(veepn_access['password'])\n",
    "    sleep(1)\n",
    "    driver.find_element(By.XPATH, '//button[@id=\"submit-form-button\"]').click()\n",
    "    print('Entered account & password: Logged in')\n",
    "elif (my_accounts == 1) & (log_ins == 0):\n",
    "    print('Logged into veepn')\n",
    "else:\n",
    "    print(f'Unexpected occurrances of log_ins ({log_ins}) and/or my_accounts ({my_accounts})')\n",
    "# close menu sidebar\n",
    "driver.find_element(By.XPATH, '//div[@role=\"button\"][@class=\"bg\"]').click()\n",
    "sleep(2)"
   ]
  },
  {
   "cell_type": "code",
   "execution_count": 12,
   "metadata": {},
   "outputs": [
    {
     "ename": "KeyboardInterrupt",
     "evalue": "",
     "output_type": "error",
     "traceback": [
      "\u001b[0;31m---------------------------------------------------------------------------\u001b[0m",
      "\u001b[0;31mKeyboardInterrupt\u001b[0m                         Traceback (most recent call last)",
      "Cell \u001b[0;32mIn[12], line 2\u001b[0m\n\u001b[1;32m      1\u001b[0m \u001b[39mfor\u001b[39;00m i \u001b[39min\u001b[39;00m \u001b[39mrange\u001b[39m(\u001b[39m30\u001b[39m):\n\u001b[0;32m----> 2\u001b[0m     driver\u001b[39m.\u001b[39;49msend_action_keys(Keys\u001b[39m.\u001b[39;49mBACKSPACE)\n",
      "File \u001b[0;32m~/Documents/python_projects/landing/selenium-driver/chromedriver.py:227\u001b[0m, in \u001b[0;36mDriver.send_action_keys\u001b[0;34m(self, keys, pause_s)\u001b[0m\n\u001b[1;32m    225\u001b[0m \u001b[39melse\u001b[39;00m: key_final \u001b[39m=\u001b[39m key\n\u001b[1;32m    226\u001b[0m actions\u001b[39m.\u001b[39msend_keys(key_final)\u001b[39m.\u001b[39mperform()\n\u001b[0;32m--> 227\u001b[0m sleep(pause_s)\n",
      "\u001b[0;31mKeyboardInterrupt\u001b[0m: "
     ]
    }
   ],
   "source": [
    "for i in range(30):\n",
    "    driver.send_action_keys(Keys.BACKSPACE)"
   ]
  },
  {
   "cell_type": "code",
   "execution_count": 15,
   "metadata": {},
   "outputs": [],
   "source": [
    "driver.find_element(By.XPATH, '//button[@id=\"submit-form-button\"]').click()"
   ]
  },
  {
   "cell_type": "markdown",
   "metadata": {},
   "source": []
  },
  {
   "cell_type": "code",
   "execution_count": null,
   "metadata": {},
   "outputs": [],
   "source": []
  },
  {
   "cell_type": "code",
   "execution_count": null,
   "metadata": {},
   "outputs": [],
   "source": []
  }
 ],
 "metadata": {
  "kernelspec": {
   "display_name": ".venv",
   "language": "python",
   "name": "python3"
  },
  "language_info": {
   "codemirror_mode": {
    "name": "ipython",
    "version": 3
   },
   "file_extension": ".py",
   "mimetype": "text/x-python",
   "name": "python",
   "nbconvert_exporter": "python",
   "pygments_lexer": "ipython3",
   "version": "3.11.1"
  },
  "orig_nbformat": 4
 },
 "nbformat": 4,
 "nbformat_minor": 2
}
