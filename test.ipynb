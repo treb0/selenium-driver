{
 "cells": [
  {
   "cell_type": "code",
   "execution_count": null,
   "metadata": {},
   "outputs": [],
   "source": [
    "from chromedriver import *\n",
    "\n",
    "\n",
    "from time import sleep\n",
    "\n",
    "\n",
    "import sys\n",
    "import pandas as pd\n",
    "\n",
    "from bs4 import BeautifulSoup\n",
    "\n",
    "import random\n",
    "\n",
    "# Selenium\n",
    "from selenium import webdriver\n",
    "from selenium.webdriver.support.ui import WebDriverWait, Select\n",
    "from selenium.webdriver.support import expected_conditions as EC\n",
    "from selenium.webdriver.common.by import By\n",
    "from selenium.webdriver.common.keys import Keys\n",
    "from selenium.webdriver.common.action_chains import ActionChains\n",
    "from selenium.webdriver.chrome.service import Service\n",
    "\n",
    "from selenium.common.exceptions import NoSuchElementException\n",
    "from selenium.common.exceptions import StaleElementReferenceException\n",
    "\n",
    "from webdriver_manager.chrome import ChromeDriverManager\n",
    "\n",
    "driver = open_chromedriver(rel_path_to_selenium = ''\n",
    "                                ,rel_path_to_chrome = 'chrome_test'\n",
    "                                ,profile = None\n",
    "                                ,extensions = ['veepn']\n",
    "                                ,audio = False\n",
    "                                ,headless = True\n",
    "                            )\n",
    "\n",
    "VPN_COUNTRY = 'Canada'\n",
    "VPN_REGION = 'Ontario'\n",
    "VEEPN_COUNTRY = VPN_COUNTRY\n",
    "VEEPN_REGION = VPN_REGION\n",
    "\n",
    "logged_in = driver.verify_ip(VPN_COUNTRY, VPN_REGION, VEEPN_COUNTRY, VEEPN_REGION)\n",
    "\n",
    "print('test program finished!')\n",
    "\n",
    "from datetime import datetime\n",
    "print('')\n",
    "print('datetime now:')\n",
    "print(datetime.now().strftime(\"%Y-%m-%d %H:%M:%S\"))"
   ]
  }
 ],
 "metadata": {
  "language_info": {
   "name": "python"
  },
  "orig_nbformat": 4
 },
 "nbformat": 4,
 "nbformat_minor": 2
}
